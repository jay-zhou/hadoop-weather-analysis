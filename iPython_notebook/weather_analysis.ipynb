%matplotlib inline

import requests
from StringIO import StringIO
import numpy as np
import pandas as pd
import matplotlib.pyplot as plt


text_file = open('country_codes.txt', 'r')
lines = text_file.readlines()


url_base = 'http://climatedataapi.worldbank.org/climateweb/rest/v1/country/cru/pr/month/'
weathers = pd.DataFrame(columns=['jan','feb','mar', apr','may','jun','jul',aug','sep','oct','nov','dec'])

index = 0
for line in lines:
   url = url_base + line.strip() + '.csv'
   source = requests.get(url).content
   
   if len(source) != 0:
      s = StringIO(source)
       
      if index == 0:
         weathers = pd.DataFrame.from_csv(s, index_col=None).convert_objects(
                        convert_numeric=True).T
         weathers.reset_index()
         weathers.reindex(index=range(0,2))
      else:
         weather = pd.DataFrame.from_csv(s, index_col=0).convert_objects(
                         convert_numberic=True).T
         aWeather = np.array(weather.loc['data'])
         weathers.loc[index+2] = aWeather
         
      index = index +1
weathers.head()


weathers.shape


weathers.columns = ['jan','feb','mar', apr','may','jun','jul',aug','sep','oct','nov','dec']
weathers = weathers.drop(weathers.index[0])
weathers.head()


weathers.shape


mon_sum = weathers.loc[:, ['jan','feb','mar', apr','may','jun','jul',aug','sep','oct','nov','dec']].sum(axis=0)
mon_sum = mon_sum * 10
mon_sum


pd_sum = pd.DataFrame(mon_sum)
pd_sum


plt.figure()
x = xrange(0, 12)
plt.plot( pd_sum)
plt.xlabel("Month")
plt.ylabel("Total Precipitation")
plt.title("Total Monthly Precipitation")
plt.xticks(x, np.array(pd_sum.index), rotation='vertical')
plt.show()

